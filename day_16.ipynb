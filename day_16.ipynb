{
 "cells": [
  {
   "cell_type": "code",
   "execution_count": 2,
   "id": "9def5836-0df8-4488-83a6-d39c6f6a2043",
   "metadata": {
    "tags": []
   },
   "outputs": [],
   "source": [
    "distance_map = {\n",
    "    'AA':{'AA': 0, 'DD': 1, 'II': 1, 'BB': 1, 'CC': 2, 'EE': 2, 'JJ': 2, 'FF': 3, 'GG': 4, 'HH': 5},\n",
    "    'BB':{'BB': 0, 'AA': 1, 'CC': 1, 'DD': 2, 'II': 2, 'JJ': 3, 'EE': 3, 'FF': 4, 'GG': 5, 'HH': 6},\n",
    "    'CC':{'CC': 0, 'DD': 1, 'BB': 1, 'AA': 2, 'EE': 2, 'II': 3, 'FF': 3, 'GG': 4, 'JJ': 4, 'HH': 5},\n",
    "    'DD':{'DD': 0, 'AA': 1, 'CC': 1, 'EE': 1, 'II': 2, 'BB': 2, 'FF': 2, 'GG': 3, 'JJ': 3, 'HH': 4},\n",
    "    'EE':{'EE': 0, 'DD': 1, 'FF': 1, 'GG': 2, 'AA': 2, 'CC': 2, 'II': 3, 'HH': 3, 'BB': 3, 'JJ': 4},\n",
    "    'FF':{'FF': 0, 'GG': 1, 'EE': 1, 'DD': 2, 'HH': 2, 'AA': 3, 'CC': 3, 'II': 4, 'BB': 4, 'JJ': 5},\n",
    "    'GG':{'GG': 0, 'HH': 1, 'FF': 1, 'EE': 2, 'DD': 3, 'AA': 4, 'CC': 4, 'II': 5, 'BB': 5, 'JJ': 6},\n",
    "    'HH':{'HH': 0, 'GG': 1, 'FF': 2, 'EE': 3, 'DD': 4, 'AA': 5, 'CC': 5, 'II': 6, 'BB': 6, 'JJ': 7},\n",
    "    'II':{'II': 0, 'AA': 1, 'JJ': 1, 'DD': 2, 'BB': 2, 'CC': 3, 'EE': 3, 'FF': 4, 'GG': 5, 'HH': 6},\n",
    "    'JJ':{'JJ': 0, 'II': 1, 'AA': 2, 'DD': 3, 'BB': 3, 'CC': 4, 'EE': 4, 'FF': 5, 'GG': 6, 'HH': 7}\n",
    "}"
   ]
  },
  {
   "cell_type": "code",
   "execution_count": 40,
   "id": "fe4d58ad-1186-4b93-80f0-979e3f03ae2e",
   "metadata": {
    "tags": []
   },
   "outputs": [
    {
     "name": "stdout",
     "output_type": "stream",
     "text": [
      "['AA', 'DD']\n",
      "['AA', 'II']\n",
      "['AA', 'BB']\n",
      "['AA', 'CC']\n",
      "['AA', 'EE']\n",
      "['AA', 'JJ']\n",
      "['AA', 'FF']\n",
      "['AA', 'GG']\n",
      "['AA', 'HH']\n"
     ]
    }
   ],
   "source": [
    "current = 'AA'\n",
    "opened = ['AA']\n",
    "\n",
    "for valve in distance_map[current]:\n",
    "    if valve != current and valve not in opened:\n",
    "        print(opened + [valve])"
   ]
  },
  {
   "cell_type": "code",
   "execution_count": 38,
   "id": "971e154f-7f39-47fc-b03d-b8dfed834b91",
   "metadata": {
    "tags": []
   },
   "outputs": [
    {
     "name": "stdout",
     "output_type": "stream",
     "text": [
      "['AA', 'BB', 'CC']\n",
      "['AA', 'BB', 'DD']\n",
      "['AA', 'BB', 'II']\n",
      "['AA', 'BB', 'JJ']\n",
      "['AA', 'BB', 'EE']\n",
      "['AA', 'BB', 'FF']\n",
      "['AA', 'BB', 'GG']\n",
      "['AA', 'BB', 'HH']\n"
     ]
    }
   ],
   "source": [
    "current = 'BB'\n",
    "opened = ['AA', 'BB']\n",
    "\n",
    "for valve in distance_map[current]:\n",
    "    if valve != current and valve not in opened:\n",
    "        print(opened + [valve])"
   ]
  },
  {
   "cell_type": "code",
   "execution_count": 41,
   "id": "9128f808-bd2b-4892-a3d7-5d67d420132d",
   "metadata": {
    "tags": []
   },
   "outputs": [
    {
     "name": "stdout",
     "output_type": "stream",
     "text": [
      "['AA', 'BB', 'CC', 'DD']\n",
      "['AA', 'BB', 'CC', 'II']\n",
      "['AA', 'BB', 'CC', 'JJ']\n",
      "['AA', 'BB', 'CC', 'EE']\n",
      "['AA', 'BB', 'CC', 'FF']\n",
      "['AA', 'BB', 'CC', 'GG']\n",
      "['AA', 'BB', 'CC', 'HH']\n"
     ]
    }
   ],
   "source": [
    "current = 'BB'\n",
    "opened = ['AA', 'BB', 'CC']\n",
    "\n",
    "for valve in distance_map[current]:\n",
    "    if valve != current and valve not in opened:\n",
    "        print(opened + [valve])"
   ]
  },
  {
   "cell_type": "code",
   "execution_count": 67,
   "id": "a50d4828-15b1-4e66-b223-0e6cb64094ba",
   "metadata": {
    "tags": []
   },
   "outputs": [],
   "source": [
    "def explore(current, opened):\n",
    "    if len(opened) >= 3:\n",
    "        return opened\n",
    "    \n",
    "    paths = []\n",
    "    \n",
    "    print(distance_map[current])\n",
    "\n",
    "    for valve in distance_map[current]:\n",
    "        if valve != current and valve not in opened:\n",
    "            return explore(valve, opened + [valve])\n",
    "            # paths.append(opened + [valve])\n",
    "    \n",
    "    #return paths"
   ]
  },
  {
   "cell_type": "code",
   "execution_count": 68,
   "id": "2b3fa63b-09c2-4ce6-ad28-866471169840",
   "metadata": {
    "tags": []
   },
   "outputs": [
    {
     "name": "stdout",
     "output_type": "stream",
     "text": [
      "{'DD': 0, 'AA': 1, 'CC': 1, 'EE': 1, 'II': 2, 'BB': 2, 'FF': 2, 'GG': 3, 'JJ': 3, 'HH': 4}\n"
     ]
    },
    {
     "data": {
      "text/plain": [
       "['AA', 'DD', 'CC']"
      ]
     },
     "execution_count": 68,
     "metadata": {},
     "output_type": "execute_result"
    }
   ],
   "source": [
    "explorer('AA', ['AA'])"
   ]
  },
  {
   "cell_type": "code",
   "execution_count": 66,
   "id": "f922007b-ccec-4d95-85f1-113f86050fc1",
   "metadata": {
    "tags": []
   },
   "outputs": [
    {
     "name": "stdout",
     "output_type": "stream",
     "text": [
      "{'AA': 0, 'DD': 1, 'II': 1, 'BB': 1, 'CC': 2, 'EE': 2, 'JJ': 2, 'FF': 3, 'GG': 4, 'HH': 5}\n",
      "{'DD': 0, 'AA': 1, 'CC': 1, 'EE': 1, 'II': 2, 'BB': 2, 'FF': 2, 'GG': 3, 'JJ': 3, 'HH': 4}\n"
     ]
    },
    {
     "data": {
      "text/plain": [
       "'CC'"
      ]
     },
     "execution_count": 66,
     "metadata": {},
     "output_type": "execute_result"
    }
   ],
   "source": [
    "explore('AA', ['AA'])"
   ]
  },
  {
   "cell_type": "code",
   "execution_count": null,
   "id": "b8adc7ec-d300-4d8f-80c1-77eeb760e633",
   "metadata": {},
   "outputs": [],
   "source": [
    "explorer()"
   ]
  }
 ],
 "metadata": {
  "kernelspec": {
   "display_name": "Python 3 (ipykernel)",
   "language": "python",
   "name": "python3"
  },
  "language_info": {
   "codemirror_mode": {
    "name": "ipython",
    "version": 3
   },
   "file_extension": ".py",
   "mimetype": "text/x-python",
   "name": "python",
   "nbconvert_exporter": "python",
   "pygments_lexer": "ipython3",
   "version": "3.10.6"
  }
 },
 "nbformat": 4,
 "nbformat_minor": 5
}
