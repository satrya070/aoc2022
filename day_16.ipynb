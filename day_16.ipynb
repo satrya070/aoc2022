{
 "cells": [
  {
   "cell_type": "code",
   "execution_count": 10,
   "id": "9def5836-0df8-4488-83a6-d39c6f6a2043",
   "metadata": {
    "tags": []
   },
   "outputs": [],
   "source": [
    "distance_map_unfiltered = {\n",
    "    'AA':{'AA': 0, 'DD': 1, 'II': 1, 'BB': 1, 'CC': 2, 'EE': 2, 'JJ': 2, 'FF': 3, 'GG': 4, 'HH': 5},\n",
    "    'BB':{'BB': 0, 'AA': 1, 'CC': 1, 'DD': 2, 'II': 2, 'JJ': 3, 'EE': 3, 'FF': 4, 'GG': 5, 'HH': 6},\n",
    "    'CC':{'CC': 0, 'DD': 1, 'BB': 1, 'AA': 2, 'EE': 2, 'II': 3, 'FF': 3, 'GG': 4, 'JJ': 4, 'HH': 5},\n",
    "    'DD':{'DD': 0, 'AA': 1, 'CC': 1, 'EE': 1, 'II': 2, 'BB': 2, 'FF': 2, 'GG': 3, 'JJ': 3, 'HH': 4},\n",
    "    'EE':{'EE': 0, 'DD': 1, 'FF': 1, 'GG': 2, 'AA': 2, 'CC': 2, 'II': 3, 'HH': 3, 'BB': 3, 'JJ': 4},\n",
    "    'FF':{'FF': 0, 'GG': 1, 'EE': 1, 'DD': 2, 'HH': 2, 'AA': 3, 'CC': 3, 'II': 4, 'BB': 4, 'JJ': 5},\n",
    "    'GG':{'GG': 0, 'HH': 1, 'FF': 1, 'EE': 2, 'DD': 3, 'AA': 4, 'CC': 4, 'II': 5, 'BB': 5, 'JJ': 6},\n",
    "    'HH':{'HH': 0, 'GG': 1, 'FF': 2, 'EE': 3, 'DD': 4, 'AA': 5, 'CC': 5, 'II': 6, 'BB': 6, 'JJ': 7},\n",
    "    'II':{'II': 0, 'AA': 1, 'JJ': 1, 'DD': 2, 'BB': 2, 'CC': 3, 'EE': 3, 'FF': 4, 'GG': 5, 'HH': 6},\n",
    "    'JJ':{'JJ': 0, 'II': 1, 'AA': 2, 'DD': 3, 'BB': 3, 'CC': 4, 'EE': 4, 'FF': 5, 'GG': 6, 'HH': 7}\n",
    "}"
   ]
  },
  {
   "cell_type": "code",
   "execution_count": 2,
   "id": "fe4d58ad-1186-4b93-80f0-979e3f03ae2e",
   "metadata": {
    "tags": []
   },
   "outputs": [
    {
     "name": "stdout",
     "output_type": "stream",
     "text": [
      "['AA', 'DD']\n",
      "['AA', 'II']\n",
      "['AA', 'BB']\n",
      "['AA', 'CC']\n",
      "['AA', 'EE']\n",
      "['AA', 'JJ']\n",
      "['AA', 'FF']\n",
      "['AA', 'GG']\n",
      "['AA', 'HH']\n"
     ]
    }
   ],
   "source": [
    "current = 'AA'\n",
    "opened = ['AA']\n",
    "\n",
    "for valve in distance_map[current]:\n",
    "    if valve != current and valve not in opened:\n",
    "        print(opened + [valve])"
   ]
  },
  {
   "cell_type": "code",
   "execution_count": 3,
   "id": "971e154f-7f39-47fc-b03d-b8dfed834b91",
   "metadata": {
    "tags": []
   },
   "outputs": [
    {
     "name": "stdout",
     "output_type": "stream",
     "text": [
      "['AA', 'BB', 'CC']\n",
      "['AA', 'BB', 'DD']\n",
      "['AA', 'BB', 'II']\n",
      "['AA', 'BB', 'JJ']\n",
      "['AA', 'BB', 'EE']\n",
      "['AA', 'BB', 'FF']\n",
      "['AA', 'BB', 'GG']\n",
      "['AA', 'BB', 'HH']\n"
     ]
    }
   ],
   "source": [
    "current = 'BB'\n",
    "opened = ['AA', 'BB']\n",
    "\n",
    "for valve in distance_map[current]:\n",
    "    if valve != current and valve not in opened:\n",
    "        print(opened + [valve])"
   ]
  },
  {
   "cell_type": "code",
   "execution_count": 4,
   "id": "9128f808-bd2b-4892-a3d7-5d67d420132d",
   "metadata": {
    "tags": []
   },
   "outputs": [
    {
     "name": "stdout",
     "output_type": "stream",
     "text": [
      "['AA', 'BB', 'CC', 'DD']\n",
      "['AA', 'BB', 'CC', 'II']\n",
      "['AA', 'BB', 'CC', 'JJ']\n",
      "['AA', 'BB', 'CC', 'EE']\n",
      "['AA', 'BB', 'CC', 'FF']\n",
      "['AA', 'BB', 'CC', 'GG']\n",
      "['AA', 'BB', 'CC', 'HH']\n"
     ]
    }
   ],
   "source": [
    "current = 'BB'\n",
    "opened = ['AA', 'BB', 'CC']\n",
    "\n",
    "for valve in distance_map[current]:\n",
    "    if valve != current and valve not in opened:\n",
    "        print(opened + [valve])"
   ]
  },
  {
   "cell_type": "code",
   "execution_count": 5,
   "id": "a50d4828-15b1-4e66-b223-0e6cb64094ba",
   "metadata": {
    "tags": []
   },
   "outputs": [],
   "source": [
    "def explore(current, opened):\n",
    "    if len(opened) >= 3:\n",
    "        return opened\n",
    "    \n",
    "    paths = []\n",
    "    \n",
    "    print(distance_map[current])\n",
    "\n",
    "    for valve in distance_map[current]:\n",
    "        if valve != current and valve not in opened:\n",
    "            return explore(valve, opened + [valve])\n",
    "            # paths.append(opened + [valve])\n",
    "    \n",
    "    #return paths"
   ]
  },
  {
   "cell_type": "code",
   "execution_count": 7,
   "id": "2b3fa63b-09c2-4ce6-ad28-866471169840",
   "metadata": {
    "tags": []
   },
   "outputs": [
    {
     "name": "stdout",
     "output_type": "stream",
     "text": [
      "{'AA': 0, 'DD': 1, 'II': 1, 'BB': 1, 'CC': 2, 'EE': 2, 'JJ': 2, 'FF': 3, 'GG': 4, 'HH': 5}\n",
      "{'DD': 0, 'AA': 1, 'CC': 1, 'EE': 1, 'II': 2, 'BB': 2, 'FF': 2, 'GG': 3, 'JJ': 3, 'HH': 4}\n"
     ]
    },
    {
     "data": {
      "text/plain": [
       "['AA', 'DD', 'CC']"
      ]
     },
     "execution_count": 7,
     "metadata": {},
     "output_type": "execute_result"
    }
   ],
   "source": [
    "explore('AA', ['AA'])"
   ]
  },
  {
   "cell_type": "code",
   "execution_count": 66,
   "id": "f922007b-ccec-4d95-85f1-113f86050fc1",
   "metadata": {
    "tags": []
   },
   "outputs": [
    {
     "name": "stdout",
     "output_type": "stream",
     "text": [
      "{'AA': 0, 'DD': 1, 'II': 1, 'BB': 1, 'CC': 2, 'EE': 2, 'JJ': 2, 'FF': 3, 'GG': 4, 'HH': 5}\n",
      "{'DD': 0, 'AA': 1, 'CC': 1, 'EE': 1, 'II': 2, 'BB': 2, 'FF': 2, 'GG': 3, 'JJ': 3, 'HH': 4}\n"
     ]
    },
    {
     "data": {
      "text/plain": [
       "'CC'"
      ]
     },
     "execution_count": 66,
     "metadata": {},
     "output_type": "execute_result"
    }
   ],
   "source": [
    "explore('AA', ['AA'])"
   ]
  },
  {
   "cell_type": "code",
   "execution_count": 8,
   "id": "b8adc7ec-d300-4d8f-80c1-77eeb760e633",
   "metadata": {
    "collapsed": true,
    "jupyter": {
     "outputs_hidden": true
    },
    "tags": []
   },
   "outputs": [
    {
     "data": {
      "text/plain": [
       "{'AA': {'AA': 0,\n",
       "  'DD': 1,\n",
       "  'II': 1,\n",
       "  'BB': 1,\n",
       "  'CC': 2,\n",
       "  'EE': 2,\n",
       "  'JJ': 2,\n",
       "  'FF': 3,\n",
       "  'GG': 4,\n",
       "  'HH': 5},\n",
       " 'BB': {'BB': 0,\n",
       "  'AA': 1,\n",
       "  'CC': 1,\n",
       "  'DD': 2,\n",
       "  'II': 2,\n",
       "  'JJ': 3,\n",
       "  'EE': 3,\n",
       "  'FF': 4,\n",
       "  'GG': 5,\n",
       "  'HH': 6},\n",
       " 'CC': {'CC': 0,\n",
       "  'DD': 1,\n",
       "  'BB': 1,\n",
       "  'AA': 2,\n",
       "  'EE': 2,\n",
       "  'II': 3,\n",
       "  'FF': 3,\n",
       "  'GG': 4,\n",
       "  'JJ': 4,\n",
       "  'HH': 5},\n",
       " 'DD': {'DD': 0,\n",
       "  'AA': 1,\n",
       "  'CC': 1,\n",
       "  'EE': 1,\n",
       "  'II': 2,\n",
       "  'BB': 2,\n",
       "  'FF': 2,\n",
       "  'GG': 3,\n",
       "  'JJ': 3,\n",
       "  'HH': 4},\n",
       " 'EE': {'EE': 0,\n",
       "  'DD': 1,\n",
       "  'FF': 1,\n",
       "  'GG': 2,\n",
       "  'AA': 2,\n",
       "  'CC': 2,\n",
       "  'II': 3,\n",
       "  'HH': 3,\n",
       "  'BB': 3,\n",
       "  'JJ': 4},\n",
       " 'FF': {'FF': 0,\n",
       "  'GG': 1,\n",
       "  'EE': 1,\n",
       "  'DD': 2,\n",
       "  'HH': 2,\n",
       "  'AA': 3,\n",
       "  'CC': 3,\n",
       "  'II': 4,\n",
       "  'BB': 4,\n",
       "  'JJ': 5},\n",
       " 'GG': {'GG': 0,\n",
       "  'HH': 1,\n",
       "  'FF': 1,\n",
       "  'EE': 2,\n",
       "  'DD': 3,\n",
       "  'AA': 4,\n",
       "  'CC': 4,\n",
       "  'II': 5,\n",
       "  'BB': 5,\n",
       "  'JJ': 6},\n",
       " 'HH': {'HH': 0,\n",
       "  'GG': 1,\n",
       "  'FF': 2,\n",
       "  'EE': 3,\n",
       "  'DD': 4,\n",
       "  'AA': 5,\n",
       "  'CC': 5,\n",
       "  'II': 6,\n",
       "  'BB': 6,\n",
       "  'JJ': 7},\n",
       " 'II': {'II': 0,\n",
       "  'AA': 1,\n",
       "  'JJ': 1,\n",
       "  'DD': 2,\n",
       "  'BB': 2,\n",
       "  'CC': 3,\n",
       "  'EE': 3,\n",
       "  'FF': 4,\n",
       "  'GG': 5,\n",
       "  'HH': 6},\n",
       " 'JJ': {'JJ': 0,\n",
       "  'II': 1,\n",
       "  'AA': 2,\n",
       "  'DD': 3,\n",
       "  'BB': 3,\n",
       "  'CC': 4,\n",
       "  'EE': 4,\n",
       "  'FF': 5,\n",
       "  'GG': 6,\n",
       "  'HH': 7}}"
      ]
     },
     "execution_count": 8,
     "metadata": {},
     "output_type": "execute_result"
    }
   ],
   "source": [
    "distance_map"
   ]
  },
  {
   "cell_type": "code",
   "execution_count": 9,
   "id": "5009c895-e628-42c3-befc-8824eb8ba045",
   "metadata": {},
   "outputs": [],
   "source": [
    "valves_zero = ['II', 'GG', 'FF']"
   ]
  },
  {
   "cell_type": "code",
   "execution_count": 14,
   "id": "ad8f4908-0c92-4083-bf4d-f9f00e30689f",
   "metadata": {},
   "outputs": [],
   "source": [
    "distance_map = {}\n",
    "\n",
    "for key, valve_distances_unfiltered in distance_map_unfiltered.items():\n",
    "    if key not in valves_zero:\n",
    "        valve_distances = {}\n",
    "        for valve in valve_distances_unfiltered:\n",
    "            if valve not in valves_zero:\n",
    "                valve_distances[valve] = valve_distances_unfiltered[valve]\n",
    "        \n",
    "        distance_map[key] = valve_distances"
   ]
  },
  {
   "cell_type": "code",
   "execution_count": 15,
   "id": "8c8ccb20-dfa9-4af0-9c2b-af8fd3d8d313",
   "metadata": {},
   "outputs": [
    {
     "data": {
      "text/plain": [
       "{'AA': {'AA': 0, 'DD': 1, 'BB': 1, 'CC': 2, 'EE': 2, 'JJ': 2, 'HH': 5},\n",
       " 'BB': {'BB': 0, 'AA': 1, 'CC': 1, 'DD': 2, 'JJ': 3, 'EE': 3, 'HH': 6},\n",
       " 'CC': {'CC': 0, 'DD': 1, 'BB': 1, 'AA': 2, 'EE': 2, 'JJ': 4, 'HH': 5},\n",
       " 'DD': {'DD': 0, 'AA': 1, 'CC': 1, 'EE': 1, 'BB': 2, 'JJ': 3, 'HH': 4},\n",
       " 'EE': {'EE': 0, 'DD': 1, 'AA': 2, 'CC': 2, 'HH': 3, 'BB': 3, 'JJ': 4},\n",
       " 'HH': {'HH': 0, 'EE': 3, 'DD': 4, 'AA': 5, 'CC': 5, 'BB': 6, 'JJ': 7},\n",
       " 'JJ': {'JJ': 0, 'AA': 2, 'DD': 3, 'BB': 3, 'CC': 4, 'EE': 4, 'HH': 7}}"
      ]
     },
     "execution_count": 15,
     "metadata": {},
     "output_type": "execute_result"
    }
   ],
   "source": [
    "distance_map"
   ]
  },
  {
   "cell_type": "code",
   "execution_count": null,
   "id": "66d4c772-5520-4bc8-979e-0bd9f0c53f07",
   "metadata": {},
   "outputs": [],
   "source": []
  },
  {
   "cell_type": "code",
   "execution_count": null,
   "id": "0d395d83-0d05-4cd0-9b3a-58a034f2293d",
   "metadata": {},
   "outputs": [],
   "source": []
  },
  {
   "cell_type": "code",
   "execution_count": null,
   "id": "e8aa8faf-ca80-4810-96e8-bda7059e6800",
   "metadata": {},
   "outputs": [],
   "source": [
    "# DFS"
   ]
  },
  {
   "cell_type": "code",
   "execution_count": 17,
   "id": "324fc5cc-c53a-4023-a383-317c109cdbc8",
   "metadata": {},
   "outputs": [
    {
     "data": {
      "text/plain": [
       "{'AA': 0, 'DD': 1, 'BB': 1, 'CC': 2, 'EE': 2, 'JJ': 2, 'HH': 5}"
      ]
     },
     "execution_count": 17,
     "metadata": {},
     "output_type": "execute_result"
    }
   ],
   "source": [
    "distance_map['AA']"
   ]
  },
  {
   "cell_type": "code",
   "execution_count": 30,
   "id": "9c3724bc-b5cc-425e-9f54-54ea01fc2cdc",
   "metadata": {},
   "outputs": [],
   "source": [
    "states = {}"
   ]
  },
  {
   "cell_type": "code",
   "execution_count": 34,
   "id": "4cb91c0b-8b44-4004-90a6-d334f4b5bd9e",
   "metadata": {},
   "outputs": [
    {
     "name": "stdout",
     "output_type": "stream",
     "text": [
      "DD\n",
      "BB\n",
      "CC\n",
      "EE\n",
      "JJ\n",
      "HH\n"
     ]
    }
   ],
   "source": [
    "current = 'AA'\n",
    "opened = []\n",
    "neighbors = distance_map[current]\n",
    "\n",
    "# filters\n",
    "neighbors = {valve: neighbors[valve] for valve in neighbors if valve != current and valve not in opened}\n",
    "\n",
    "for valve in neighbors:\n",
    "    print(valve)\n",
    "    states[f'{valve}_{\"-\".join(neighbors.keys())}'] = neighbors[valve]"
   ]
  },
  {
   "cell_type": "code",
   "execution_count": 25,
   "id": "ad59831c-e4ce-4a58-80d4-c02c79147354",
   "metadata": {},
   "outputs": [
    {
     "data": {
      "text/plain": [
       "{'DD': 1, 'BB': 1, 'CC': 2, 'EE': 2, 'JJ': 2, 'HH': 5}"
      ]
     },
     "execution_count": 25,
     "metadata": {},
     "output_type": "execute_result"
    }
   ],
   "source": [
    "neighbors"
   ]
  },
  {
   "cell_type": "code",
   "execution_count": 35,
   "id": "a12b831f-ea52-4447-95bf-253889126dd4",
   "metadata": {},
   "outputs": [
    {
     "data": {
      "text/plain": [
       "{'DD_DD-BB-CC-EE-JJ-HH': 1,\n",
       " 'BB_DD-BB-CC-EE-JJ-HH': 1,\n",
       " 'CC_DD-BB-CC-EE-JJ-HH': 2,\n",
       " 'EE_DD-BB-CC-EE-JJ-HH': 2,\n",
       " 'JJ_DD-BB-CC-EE-JJ-HH': 2,\n",
       " 'HH_DD-BB-CC-EE-JJ-HH': 5}"
      ]
     },
     "execution_count": 35,
     "metadata": {},
     "output_type": "execute_result"
    }
   ],
   "source": [
    "states"
   ]
  },
  {
   "cell_type": "code",
   "execution_count": null,
   "id": "8ead9722-fd1b-4e23-87a9-559df1b71380",
   "metadata": {},
   "outputs": [],
   "source": []
  },
  {
   "cell_type": "code",
   "execution_count": null,
   "id": "fa866328-d9be-4243-aa65-e01400419086",
   "metadata": {},
   "outputs": [],
   "source": []
  },
  {
   "cell_type": "markdown",
   "id": "eb9b716b-fca8-45d6-a779-8ae910196bd2",
   "metadata": {},
   "source": [
    "## real sol?"
   ]
  },
  {
   "cell_type": "code",
   "execution_count": 42,
   "id": "aa2ffc90-f70a-481d-be5d-84b70352bedd",
   "metadata": {},
   "outputs": [],
   "source": [
    "current = 'AA'\n",
    "opened = []\n",
    "neighbors = distance_map[current]\n",
    "neighbors = {\n",
    "    valve: neighbors[valve] for valve\n",
    "    in neighbors if valve != current and valve not in opened\n",
    "}"
   ]
  },
  {
   "cell_type": "code",
   "execution_count": 43,
   "id": "dbca15cc-83bb-4f1b-9210-17ad28b48e98",
   "metadata": {},
   "outputs": [
    {
     "data": {
      "text/plain": [
       "{'DD': 1, 'BB': 1, 'CC': 2, 'EE': 2, 'JJ': 2, 'HH': 5}"
      ]
     },
     "execution_count": 43,
     "metadata": {},
     "output_type": "execute_result"
    }
   ],
   "source": [
    "neighbors"
   ]
  },
  {
   "cell_type": "code",
   "execution_count": 44,
   "id": "99441df9-ee93-42da-914d-154837682ecb",
   "metadata": {},
   "outputs": [],
   "source": [
    "test_neighbors = {'DD': 1, 'BB': 1}"
   ]
  },
  {
   "cell_type": "code",
   "execution_count": 45,
   "id": "778e90a4-006d-4cf7-b0c7-56b576af85bc",
   "metadata": {},
   "outputs": [
    {
     "data": {
      "text/plain": [
       "{'DD': 1, 'BB': 1}"
      ]
     },
     "execution_count": 45,
     "metadata": {},
     "output_type": "execute_result"
    }
   ],
   "source": [
    "test_neighbors"
   ]
  },
  {
   "cell_type": "code",
   "execution_count": 47,
   "id": "df2b4cc4-9a14-4462-9893-5d8283cf9f0d",
   "metadata": {},
   "outputs": [
    {
     "data": {
      "text/plain": [
       "1"
      ]
     },
     "execution_count": 47,
     "metadata": {},
     "output_type": "execute_result"
    }
   ],
   "source": [
    "max(test_neighbors.values() + recursion)"
   ]
  },
  {
   "cell_type": "code",
   "execution_count": 61,
   "id": "9cba7a94-8cc0-42fa-aee8-1e12e6c476b5",
   "metadata": {},
   "outputs": [],
   "source": [
    "# node_neighbors = {\n",
    "#     'a': {'b': 20, 'c': 25},\n",
    "#     'b': {'c': 25, 'a': 0},\n",
    "#     'c': {'b': 20, 'a': 0}\n",
    "# }\n",
    "valve_rates = {\n",
    "    'a': 0,\n",
    "    'b': 20,\n",
    "    'c': 25\n",
    "}\n",
    "\n",
    "distance_map = {\n",
    "    'a': {'b': 1, 'd': 2},\n",
    "    'b': {'a': 1, 'd': 1},\n",
    "    'c': {'a': 2, 'b': 2}\n",
    "}"
   ]
  },
  {
   "cell_type": "code",
   "execution_count": 57,
   "id": "88363871-9312-4640-8e75-0381380f6461",
   "metadata": {},
   "outputs": [],
   "source": [
    "current = 'a'\n",
    "opened = []\n",
    "neighbors = node_neighbors[current]"
   ]
  },
  {
   "cell_type": "code",
   "execution_count": 63,
   "id": "db1f6f0c-ed62-431d-a504-b37d133fd597",
   "metadata": {},
   "outputs": [
    {
     "data": {
      "text/plain": [
       "'c'"
      ]
     },
     "execution_count": 63,
     "metadata": {},
     "output_type": "execute_result"
    }
   ],
   "source": [
    "# params \n",
    "current = 'c'\n",
    "opened = ['a']\n",
    "remaining_time = 5\n",
    "\n",
    "remaining_time \n",
    "# filt opened & rtime - (dist + 1) >= 0\n",
    "\n",
    "\n",
    "# if no neighbors\n",
    "# return rtime *\n",
    "current_rate = valve_rates[current]\n",
    "\n",
    "# return max recurse\n",
    "# max(neighbors) # + "
   ]
  },
  {
   "cell_type": "code",
   "execution_count": 64,
   "id": "2b6abeda-ecb9-4182-844d-c7bc72bd0d12",
   "metadata": {},
   "outputs": [],
   "source": [
    "neighbors = valve for valve in distance_map[current] if (valve not in opened) and ()"
   ]
  },
  {
   "cell_type": "code",
   "execution_count": 65,
   "id": "3c1af13f-01b0-4b6a-a163-361505aa1391",
   "metadata": {},
   "outputs": [
    {
     "data": {
      "text/plain": [
       "{'b': 20, 'a': 0}"
      ]
     },
     "execution_count": 65,
     "metadata": {},
     "output_type": "execute_result"
    }
   ],
   "source": [
    "neighbors"
   ]
  },
  {
   "cell_type": "code",
   "execution_count": null,
   "id": "3b4535f7-ec72-4281-8e35-3afd159c5ffa",
   "metadata": {},
   "outputs": [],
   "source": []
  },
  {
   "cell_type": "code",
   "execution_count": null,
   "id": "d46df637-8295-4dbd-9555-8492402d9e26",
   "metadata": {},
   "outputs": [],
   "source": []
  },
  {
   "cell_type": "code",
   "execution_count": null,
   "id": "46ac6bf8-e05a-45e4-b1e2-3df3d32d4485",
   "metadata": {},
   "outputs": [],
   "source": []
  },
  {
   "cell_type": "code",
   "execution_count": null,
   "id": "e8ec29c9-6c0b-4640-ab51-5c6a05d4dd69",
   "metadata": {},
   "outputs": [],
   "source": [
    "# notes\n",
    "# - mechanics distance, 1 to open, 1 wait, then start count\n",
    "# - small version to understand\n",
    "# - eventually each branch will end with nodes that will have no more neighbors to open\n",
    "# - starting from the leave nodes, the maximum of its children will be taken, then move up and \n",
    "# do the same backtracking up the tree. Eventually you will end up at the top of the tree with\n",
    "# the maximum value of each branch of main/start node A."
   ]
  },
  {
   "cell_type": "code",
   "execution_count": null,
   "id": "1f99c395-8407-4166-8066-da815ebd3524",
   "metadata": {},
   "outputs": [],
   "source": []
  },
  {
   "cell_type": "code",
   "execution_count": null,
   "id": "a3c65a85-89c5-463c-a837-874ac2a2639c",
   "metadata": {},
   "outputs": [],
   "source": []
  },
  {
   "cell_type": "markdown",
   "id": "1d98b07e-9048-4688-908b-1f304472fc9f",
   "metadata": {},
   "source": [
    "## part 2"
   ]
  },
  {
   "cell_type": "code",
   "execution_count": 87,
   "id": "7d5ec230-e6ab-44da-b082-5c0cfa4d4f29",
   "metadata": {},
   "outputs": [],
   "source": [
    "from itertools import combinations"
   ]
  },
  {
   "cell_type": "code",
   "execution_count": 68,
   "id": "85073190-1aa6-41d6-9a38-a4a161499fb1",
   "metadata": {},
   "outputs": [],
   "source": [
    "sett = ['A', 'B', \"C\", 'D', 'E']"
   ]
  },
  {
   "cell_type": "code",
   "execution_count": 67,
   "id": "a6ab3436-a6fc-49e0-a507-bacba45cec58",
   "metadata": {},
   "outputs": [
    {
     "data": {
      "text/plain": [
       "['A', 'B', 'C']"
      ]
     },
     "execution_count": 67,
     "metadata": {},
     "output_type": "execute_result"
    }
   ],
   "source": [
    "st"
   ]
  },
  {
   "cell_type": "code",
   "execution_count": null,
   "id": "9341c59b-ef2b-453d-8367-019d75e089e7",
   "metadata": {},
   "outputs": [],
   "source": [
    "def combinations(iterable, r):\n",
    "    # combinations('ABCD', 2) --> AB AC AD BC BD CD\n",
    "    # combinations(range(4), 3) --> 012 013 023 123\n",
    "    pool = tuple(iterable)\n",
    "    n = len(pool)\n",
    "    if r > n:\n",
    "        return\n",
    "    indices = list(range(r))\n",
    "    yield tuple(pool[i] for i in indices)\n",
    "    while True:\n",
    "        for i in reversed(range(r)):\n",
    "            if indices[i] != i + n - r:\n",
    "                break\n",
    "        else:\n",
    "            return\n",
    "        indices[i] += 1\n",
    "        for j in range(i+1, r):\n",
    "            indices[j] = indices[j-1] + 1\n",
    "        yield tuple(pool[i] for i in indices)"
   ]
  },
  {
   "cell_type": "code",
   "execution_count": 72,
   "id": "69c0595a-77aa-411a-ab79-bd31db8fa661",
   "metadata": {},
   "outputs": [],
   "source": [
    "r = 3\n",
    "pool = tuple(sett)\n",
    "n = len(pool)\n",
    "indices = list(range(r))"
   ]
  },
  {
   "cell_type": "code",
   "execution_count": 73,
   "id": "b3e773ec-cd51-4d14-8996-087bbc69e450",
   "metadata": {},
   "outputs": [
    {
     "data": {
      "text/plain": [
       "[0, 1, 2]"
      ]
     },
     "execution_count": 73,
     "metadata": {},
     "output_type": "execute_result"
    }
   ],
   "source": [
    "indices"
   ]
  },
  {
   "cell_type": "code",
   "execution_count": 75,
   "id": "5da9c9da-d883-4c55-8978-8b6b87715b98",
   "metadata": {},
   "outputs": [
    {
     "data": {
      "text/plain": [
       "['A', 'B', 'C']"
      ]
     },
     "execution_count": 75,
     "metadata": {},
     "output_type": "execute_result"
    }
   ],
   "source": [
    "[pool[i] for i in indices]"
   ]
  },
  {
   "cell_type": "code",
   "execution_count": 81,
   "id": "77b2142e-7831-45b6-8bd8-95789871b77b",
   "metadata": {},
   "outputs": [
    {
     "name": "stdout",
     "output_type": "stream",
     "text": [
      "2 4\n",
      "1 3\n",
      "0 2\n"
     ]
    }
   ],
   "source": [
    "for i in reversed(range(r)):\n",
    "    print(indices[i], i + n - r)"
   ]
  },
  {
   "cell_type": "code",
   "execution_count": 79,
   "id": "f701e768-fe42-4620-9f0c-6ed5bc8c395b",
   "metadata": {},
   "outputs": [
    {
     "data": {
      "text/plain": [
       "[0, 1, 2]"
      ]
     },
     "execution_count": 79,
     "metadata": {},
     "output_type": "execute_result"
    }
   ],
   "source": [
    "indices"
   ]
  },
  {
   "cell_type": "code",
   "execution_count": null,
   "id": "e99b7199-a714-401d-8bd2-1938bdb1f63c",
   "metadata": {},
   "outputs": [],
   "source": []
  },
  {
   "cell_type": "code",
   "execution_count": 90,
   "id": "46cd9ccf-86ca-4d43-98a5-d965ec060b9c",
   "metadata": {},
   "outputs": [
    {
     "name": "stdout",
     "output_type": "stream",
     "text": [
      "2\n"
     ]
    }
   ],
   "source": [
    "for i in range(2,3):\n",
    "    print(i)"
   ]
  },
  {
   "cell_type": "code",
   "execution_count": 89,
   "id": "dd9de651-9e34-44f1-98e4-de76bc6759cc",
   "metadata": {},
   "outputs": [
    {
     "data": {
      "text/plain": [
       "[('A', 'B', 'C'),\n",
       " ('A', 'B', 'D'),\n",
       " ('A', 'B', 'E'),\n",
       " ('A', 'C', 'D'),\n",
       " ('A', 'C', 'E'),\n",
       " ('A', 'D', 'E'),\n",
       " ('B', 'C', 'D'),\n",
       " ('B', 'C', 'E'),\n",
       " ('B', 'D', 'E'),\n",
       " ('C', 'D', 'E')]"
      ]
     },
     "execution_count": 89,
     "metadata": {},
     "output_type": "execute_result"
    }
   ],
   "source": [
    "list(combinations(['A', 'B', 'C', 'D', 'E'], 3))"
   ]
  },
  {
   "cell_type": "code",
   "execution_count": null,
   "id": "49da343b-1243-4b13-a52b-e4caa0cfc5e1",
   "metadata": {},
   "outputs": [],
   "source": []
  }
 ],
 "metadata": {
  "kernelspec": {
   "display_name": "Python 3 (ipykernel)",
   "language": "python",
   "name": "python3"
  },
  "language_info": {
   "codemirror_mode": {
    "name": "ipython",
    "version": 3
   },
   "file_extension": ".py",
   "mimetype": "text/x-python",
   "name": "python",
   "nbconvert_exporter": "python",
   "pygments_lexer": "ipython3",
   "version": "3.9.13"
  }
 },
 "nbformat": 4,
 "nbformat_minor": 5
}
